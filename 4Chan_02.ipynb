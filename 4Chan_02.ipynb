{
 "cells": [
  {
   "cell_type": "code",
   "execution_count": null,
   "id": "521b7014",
   "metadata": {},
   "outputs": [],
   "source": [
    "pip nstall numpy\n",
    "pip install plotly\n",
    "pip install seaborn\n",
    "pip install matplotlib\n",
    "pip install wordcloud\n",
    "pip install textblob\n",
    "pip install wordcloud"
   ]
  },
  {
   "cell_type": "code",
   "execution_count": 1,
   "id": "299e9e3d",
   "metadata": {},
   "outputs": [],
   "source": [
    "import json\n",
    "import csv\n",
    "import pandas as pd\n",
    "import numpy as np\n",
    "import seaborn as sns\n",
    "get_ipython().run_line_magic('matplotlib', 'inline')\n",
    "from textblob import TextBlob\n",
    "import plotly.graph_objects as go\n",
    "import matplotlib.pyplot as plt"
   ]
  },
  {
   "cell_type": "code",
   "execution_count": 3,
   "id": "17e46129",
   "metadata": {},
   "outputs": [],
   "source": [
    "# load the stored json data\n",
    "\n",
    "items = [json.loads(f) for f in open('tweets.json', 'r')]"
   ]
  },
  {
   "cell_type": "code",
   "execution_count": 4,
   "id": "85d6e42b",
   "metadata": {},
   "outputs": [
    {
     "data": {
      "text/plain": [
       "list"
      ]
     },
     "execution_count": 4,
     "metadata": {},
     "output_type": "execute_result"
    }
   ],
   "source": [
    "#filter the tweets for election based\n",
    "tweets = []\n",
    "for item in items:\n",
    "    if not (\"Awards\" or \"MAMA\" or \"AMA\" or \"BTS\" or \"korean\" or \"award\" or \"daesang\" or \"theguitarmagawards2022\") in item['data']['text']:\n",
    "        tweets.append(item['data']['text'])\n",
    "\n",
    "type(tweets)"
   ]
  },
  {
   "cell_type": "code",
   "execution_count": 5,
   "id": "2e343515",
   "metadata": {},
   "outputs": [],
   "source": [
    "import pickle\n",
    "\n",
    "with open('tweets.pkl', 'wb') as f:\n",
    "    pickle.dump(tweets, f)"
   ]
  },
  {
   "cell_type": "code",
   "execution_count": 6,
   "id": "6804531f",
   "metadata": {},
   "outputs": [
    {
     "data": {
      "text/html": [
       "<div>\n",
       "<style scoped>\n",
       "    .dataframe tbody tr th:only-of-type {\n",
       "        vertical-align: middle;\n",
       "    }\n",
       "\n",
       "    .dataframe tbody tr th {\n",
       "        vertical-align: top;\n",
       "    }\n",
       "\n",
       "    .dataframe thead th {\n",
       "        text-align: right;\n",
       "    }\n",
       "</style>\n",
       "<table border=\"1\" class=\"dataframe\">\n",
       "  <thead>\n",
       "    <tr style=\"text-align: right;\">\n",
       "      <th></th>\n",
       "      <th>text</th>\n",
       "      <th>id</th>\n",
       "    </tr>\n",
       "  </thead>\n",
       "  <tbody>\n",
       "    <tr>\n",
       "      <th>0</th>\n",
       "      <td>@Commonsensetwet @the2ndcee @Cjsbest1 @davramd...</td>\n",
       "      <td>1</td>\n",
       "    </tr>\n",
       "    <tr>\n",
       "      <th>1</th>\n",
       "      <td>Read our update on the EU-US Data Transfer Fra...</td>\n",
       "      <td>2</td>\n",
       "    </tr>\n",
       "    <tr>\n",
       "      <th>2</th>\n",
       "      <td>@JoeBiden https://t.co/RgI1YxAS2O</td>\n",
       "      <td>3</td>\n",
       "    </tr>\n",
       "    <tr>\n",
       "      <th>3</th>\n",
       "      <td>RT @duty2warn: President Biden: “What makes us...</td>\n",
       "      <td>4</td>\n",
       "    </tr>\n",
       "    <tr>\n",
       "      <th>4</th>\n",
       "      <td>RT @AKA_RealDirty: Biden: \"A lightning storm t...</td>\n",
       "      <td>5</td>\n",
       "    </tr>\n",
       "    <tr>\n",
       "      <th>...</th>\n",
       "      <td>...</td>\n",
       "      <td>...</td>\n",
       "    </tr>\n",
       "    <tr>\n",
       "      <th>1042800</th>\n",
       "      <td>Biden will get worse that much we can depend o...</td>\n",
       "      <td>1042801</td>\n",
       "    </tr>\n",
       "    <tr>\n",
       "      <th>1042801</th>\n",
       "      <td>RT @TheLeoTerrell: Gavin Newsom will run for P...</td>\n",
       "      <td>1042802</td>\n",
       "    </tr>\n",
       "    <tr>\n",
       "      <th>1042802</th>\n",
       "      <td>RT @JoeMcJoe11: @PoliticsVerse Cannon has made...</td>\n",
       "      <td>1042803</td>\n",
       "    </tr>\n",
       "    <tr>\n",
       "      <th>1042803</th>\n",
       "      <td>RT @daniels_3rd: @OccupyDemocrats What about t...</td>\n",
       "      <td>1042804</td>\n",
       "    </tr>\n",
       "    <tr>\n",
       "      <th>1042804</th>\n",
       "      <td>@ralphobina Sabayan niyo rin pong napapakingga...</td>\n",
       "      <td>1042805</td>\n",
       "    </tr>\n",
       "  </tbody>\n",
       "</table>\n",
       "<p>1042805 rows × 2 columns</p>\n",
       "</div>"
      ],
      "text/plain": [
       "                                                      text       id\n",
       "0        @Commonsensetwet @the2ndcee @Cjsbest1 @davramd...        1\n",
       "1        Read our update on the EU-US Data Transfer Fra...        2\n",
       "2                        @JoeBiden https://t.co/RgI1YxAS2O        3\n",
       "3        RT @duty2warn: President Biden: “What makes us...        4\n",
       "4        RT @AKA_RealDirty: Biden: \"A lightning storm t...        5\n",
       "...                                                    ...      ...\n",
       "1042800  Biden will get worse that much we can depend o...  1042801\n",
       "1042801  RT @TheLeoTerrell: Gavin Newsom will run for P...  1042802\n",
       "1042802  RT @JoeMcJoe11: @PoliticsVerse Cannon has made...  1042803\n",
       "1042803  RT @daniels_3rd: @OccupyDemocrats What about t...  1042804\n",
       "1042804  @ralphobina Sabayan niyo rin pong napapakingga...  1042805\n",
       "\n",
       "[1042805 rows x 2 columns]"
      ]
     },
     "execution_count": 6,
     "metadata": {},
     "output_type": "execute_result"
    }
   ],
   "source": [
    "df = pd.read_pickle('tweets.pkl')\n",
    "df = pd.DataFrame(df, columns =['text'])\n",
    "id = []\n",
    "id.extend(range(1, 1042806))\n",
    "df['id'] = id\n",
    "df"
   ]
  },
  {
   "cell_type": "code",
   "execution_count": 8,
   "id": "8c5d29e5",
   "metadata": {},
   "outputs": [
    {
     "name": "stderr",
     "output_type": "stream",
     "text": [
      "[nltk_data] Downloading package stopwords to\n",
      "[nltk_data]     /Users/athiranirmal/nltk_data...\n",
      "[nltk_data]   Unzipping corpora/stopwords.zip.\n",
      "[nltk_data] Downloading package wordnet to\n",
      "[nltk_data]     /Users/athiranirmal/nltk_data...\n",
      "[nltk_data] Downloading package omw-1.4 to\n",
      "[nltk_data]     /Users/athiranirmal/nltk_data...\n",
      "[nltk_data] Downloading package vader_lexicon to\n",
      "[nltk_data]     /Users/athiranirmal/nltk_data...\n"
     ]
    },
    {
     "data": {
      "text/plain": [
       "True"
      ]
     },
     "execution_count": 8,
     "metadata": {},
     "output_type": "execute_result"
    }
   ],
   "source": [
    "import nltk\n",
    "nltk.download('stopwords')\n",
    "nltk.download('wordnet')\n",
    "nltk.download('omw-1.4')\n",
    "nltk.download('vader_lexicon')"
   ]
  },
  {
   "cell_type": "code",
   "execution_count": 10,
   "id": "ceb30698",
   "metadata": {},
   "outputs": [],
   "source": [
    "from nltk.sentiment import SentimentIntensityAnalyzer\n",
    "from tqdm.notebook import tqdm\n",
    "\n",
    "sia = SentimentIntensityAnalyzer()"
   ]
  },
  {
   "cell_type": "code",
   "execution_count": 11,
   "id": "e283ddae",
   "metadata": {},
   "outputs": [
    {
     "data": {
      "application/vnd.jupyter.widget-view+json": {
       "model_id": "1bdb2d53e1a64ae5bf29bd06b1e768d9",
       "version_major": 2,
       "version_minor": 0
      },
      "text/plain": [
       "  0%|          | 0/1042805 [00:00<?, ?it/s]"
      ]
     },
     "metadata": {},
     "output_type": "display_data"
    }
   ],
   "source": [
    "res = {}\n",
    "for i, row in tqdm(df.iterrows(), total=len(df)):\n",
    "    text = row['text']\n",
    "    myid = row['id']\n",
    "    res[myid] = sia.polarity_scores(text)"
   ]
  },
  {
   "cell_type": "code",
   "execution_count": 12,
   "id": "4f15de00",
   "metadata": {},
   "outputs": [],
   "source": [
    "vaders = pd.DataFrame(res).T\n",
    "vaders = vaders.reset_index().rename(columns={'index': 'id'})\n",
    "vaders = vaders.merge(df, how='left')"
   ]
  },
  {
   "cell_type": "code",
   "execution_count": 13,
   "id": "7da72e64",
   "metadata": {},
   "outputs": [
    {
     "data": {
      "text/html": [
       "<div>\n",
       "<style scoped>\n",
       "    .dataframe tbody tr th:only-of-type {\n",
       "        vertical-align: middle;\n",
       "    }\n",
       "\n",
       "    .dataframe tbody tr th {\n",
       "        vertical-align: top;\n",
       "    }\n",
       "\n",
       "    .dataframe thead th {\n",
       "        text-align: right;\n",
       "    }\n",
       "</style>\n",
       "<table border=\"1\" class=\"dataframe\">\n",
       "  <thead>\n",
       "    <tr style=\"text-align: right;\">\n",
       "      <th></th>\n",
       "      <th>id</th>\n",
       "      <th>neg</th>\n",
       "      <th>neu</th>\n",
       "      <th>pos</th>\n",
       "      <th>compound</th>\n",
       "      <th>text</th>\n",
       "    </tr>\n",
       "  </thead>\n",
       "  <tbody>\n",
       "    <tr>\n",
       "      <th>0</th>\n",
       "      <td>1</td>\n",
       "      <td>0.037</td>\n",
       "      <td>0.963</td>\n",
       "      <td>0.000</td>\n",
       "      <td>-0.2960</td>\n",
       "      <td>@Commonsensetwet @the2ndcee @Cjsbest1 @davramd...</td>\n",
       "    </tr>\n",
       "    <tr>\n",
       "      <th>1</th>\n",
       "      <td>2</td>\n",
       "      <td>0.000</td>\n",
       "      <td>1.000</td>\n",
       "      <td>0.000</td>\n",
       "      <td>0.0000</td>\n",
       "      <td>Read our update on the EU-US Data Transfer Fra...</td>\n",
       "    </tr>\n",
       "    <tr>\n",
       "      <th>2</th>\n",
       "      <td>3</td>\n",
       "      <td>0.000</td>\n",
       "      <td>1.000</td>\n",
       "      <td>0.000</td>\n",
       "      <td>0.0000</td>\n",
       "      <td>@JoeBiden https://t.co/RgI1YxAS2O</td>\n",
       "    </tr>\n",
       "    <tr>\n",
       "      <th>3</th>\n",
       "      <td>4</td>\n",
       "      <td>0.217</td>\n",
       "      <td>0.686</td>\n",
       "      <td>0.097</td>\n",
       "      <td>-0.5106</td>\n",
       "      <td>RT @duty2warn: President Biden: “What makes us...</td>\n",
       "    </tr>\n",
       "    <tr>\n",
       "      <th>4</th>\n",
       "      <td>5</td>\n",
       "      <td>0.000</td>\n",
       "      <td>1.000</td>\n",
       "      <td>0.000</td>\n",
       "      <td>0.0000</td>\n",
       "      <td>RT @AKA_RealDirty: Biden: \"A lightning storm t...</td>\n",
       "    </tr>\n",
       "    <tr>\n",
       "      <th>...</th>\n",
       "      <td>...</td>\n",
       "      <td>...</td>\n",
       "      <td>...</td>\n",
       "      <td>...</td>\n",
       "      <td>...</td>\n",
       "      <td>...</td>\n",
       "    </tr>\n",
       "    <tr>\n",
       "      <th>1042800</th>\n",
       "      <td>1042801</td>\n",
       "      <td>0.084</td>\n",
       "      <td>0.703</td>\n",
       "      <td>0.214</td>\n",
       "      <td>0.5859</td>\n",
       "      <td>Biden will get worse that much we can depend o...</td>\n",
       "    </tr>\n",
       "    <tr>\n",
       "      <th>1042801</th>\n",
       "      <td>1042802</td>\n",
       "      <td>0.229</td>\n",
       "      <td>0.685</td>\n",
       "      <td>0.086</td>\n",
       "      <td>-0.6369</td>\n",
       "      <td>RT @TheLeoTerrell: Gavin Newsom will run for P...</td>\n",
       "    </tr>\n",
       "    <tr>\n",
       "      <th>1042802</th>\n",
       "      <td>1042803</td>\n",
       "      <td>0.000</td>\n",
       "      <td>0.884</td>\n",
       "      <td>0.116</td>\n",
       "      <td>0.4391</td>\n",
       "      <td>RT @JoeMcJoe11: @PoliticsVerse Cannon has made...</td>\n",
       "    </tr>\n",
       "    <tr>\n",
       "      <th>1042803</th>\n",
       "      <td>1042804</td>\n",
       "      <td>0.000</td>\n",
       "      <td>1.000</td>\n",
       "      <td>0.000</td>\n",
       "      <td>0.0000</td>\n",
       "      <td>RT @daniels_3rd: @OccupyDemocrats What about t...</td>\n",
       "    </tr>\n",
       "    <tr>\n",
       "      <th>1042804</th>\n",
       "      <td>1042805</td>\n",
       "      <td>0.000</td>\n",
       "      <td>0.840</td>\n",
       "      <td>0.160</td>\n",
       "      <td>0.6360</td>\n",
       "      <td>@ralphobina Sabayan niyo rin pong napapakingga...</td>\n",
       "    </tr>\n",
       "  </tbody>\n",
       "</table>\n",
       "<p>1042805 rows × 6 columns</p>\n",
       "</div>"
      ],
      "text/plain": [
       "              id    neg    neu    pos  compound  \\\n",
       "0              1  0.037  0.963  0.000   -0.2960   \n",
       "1              2  0.000  1.000  0.000    0.0000   \n",
       "2              3  0.000  1.000  0.000    0.0000   \n",
       "3              4  0.217  0.686  0.097   -0.5106   \n",
       "4              5  0.000  1.000  0.000    0.0000   \n",
       "...          ...    ...    ...    ...       ...   \n",
       "1042800  1042801  0.084  0.703  0.214    0.5859   \n",
       "1042801  1042802  0.229  0.685  0.086   -0.6369   \n",
       "1042802  1042803  0.000  0.884  0.116    0.4391   \n",
       "1042803  1042804  0.000  1.000  0.000    0.0000   \n",
       "1042804  1042805  0.000  0.840  0.160    0.6360   \n",
       "\n",
       "                                                      text  \n",
       "0        @Commonsensetwet @the2ndcee @Cjsbest1 @davramd...  \n",
       "1        Read our update on the EU-US Data Transfer Fra...  \n",
       "2                        @JoeBiden https://t.co/RgI1YxAS2O  \n",
       "3        RT @duty2warn: President Biden: “What makes us...  \n",
       "4        RT @AKA_RealDirty: Biden: \"A lightning storm t...  \n",
       "...                                                    ...  \n",
       "1042800  Biden will get worse that much we can depend o...  \n",
       "1042801  RT @TheLeoTerrell: Gavin Newsom will run for P...  \n",
       "1042802  RT @JoeMcJoe11: @PoliticsVerse Cannon has made...  \n",
       "1042803  RT @daniels_3rd: @OccupyDemocrats What about t...  \n",
       "1042804  @ralphobina Sabayan niyo rin pong napapakingga...  \n",
       "\n",
       "[1042805 rows x 6 columns]"
      ]
     },
     "execution_count": 13,
     "metadata": {},
     "output_type": "execute_result"
    }
   ],
   "source": [
    "vaders"
   ]
  },
  {
   "cell_type": "code",
   "execution_count": null,
   "id": "25658cf6",
   "metadata": {},
   "outputs": [],
   "source": [
    "bar = sns.barplot(data=vaders, x='id', y='compound')\n",
    "bar.set_title('Compound Score for overall tweets')\n",
    "plt.show()"
   ]
  },
  {
   "cell_type": "code",
   "execution_count": null,
   "id": "be884299",
   "metadata": {},
   "outputs": [],
   "source": []
  }
 ],
 "metadata": {
  "kernelspec": {
   "display_name": "Python 3 (ipykernel)",
   "language": "python",
   "name": "python3"
  },
  "language_info": {
   "codemirror_mode": {
    "name": "ipython",
    "version": 3
   },
   "file_extension": ".py",
   "mimetype": "text/x-python",
   "name": "python",
   "nbconvert_exporter": "python",
   "pygments_lexer": "ipython3",
   "version": "3.9.7"
  }
 },
 "nbformat": 4,
 "nbformat_minor": 5
}
